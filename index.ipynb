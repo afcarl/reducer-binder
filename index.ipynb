{
 "cells": [
  {
   "cell_type": "markdown",
   "metadata": {},
   "source": [
    "# Welcome to reducer"
   ]
  },
  {
   "cell_type": "markdown",
   "metadata": {},
   "source": [
    "## To try the reducer demo, click here: [launch reducer](reduction.ipynb)\n",
    "\n",
    "\n",
    "## For a longer introduction, read on..."
   ]
  },
  {
   "cell_type": "markdown",
   "metadata": {},
   "source": [
    "# Overview\n",
    "\n",
    "## `reducer` does basic calibration of CCD images\n",
    "\n",
    "+ bias and/or overscan subtraction.\n",
    "+ dark subtraction, optionally scaling the darks by exposure time.\n",
    "+ flat correction.\n",
    "\n",
    "#### `reducer` will not overwrite your raw data. It expects the raw data to be in one folder, and  writes the reduced data to a different folder.\n",
    "\n",
    "## It can also:\n",
    "\n",
    "+ do clipping of image stacks (one way to eliminate cosmic rays).\n",
    "+ display your images, arranged by image properties like object or filter.\n",
    "+ combine images to produce \"master\" calibration images.\n",
    "\n",
    "### Coming soon:\n",
    "\n",
    "+ Cosmic ray removal using LACosmic method.\n",
    "+ Stacking light images using WCS information"
   ]
  },
  {
   "cell_type": "markdown",
   "metadata": {},
   "source": [
    "# Video walkthrough\n",
    "\n",
    "The video below walks through a reducer notebook, using the example dataset that comes with reducer.\n",
    "\n",
    " [![reducer video](reducer.png)](https://youtu.be/fhyursvZPU0 \"reducer walkthrough\")"
   ]
  },
  {
   "cell_type": "markdown",
   "metadata": {},
   "source": [
    "# Installation instructions and more\n",
    "\n",
    "Installation instructions are at [https://reducer.readthedocs.io](https://reducer.readthedocs.io/en/latest/quickstart.html)"
   ]
  }
 ],
 "metadata": {
  "kernelspec": {
   "display_name": "Python 3",
   "language": "python",
   "name": "python3"
  },
  "language_info": {
   "codemirror_mode": {
    "name": "ipython",
    "version": 3
   },
   "file_extension": ".py",
   "mimetype": "text/x-python",
   "name": "python",
   "nbconvert_exporter": "python",
   "pygments_lexer": "ipython3",
   "version": "3.5.2"
  }
 },
 "nbformat": 4,
 "nbformat_minor": 0
}
